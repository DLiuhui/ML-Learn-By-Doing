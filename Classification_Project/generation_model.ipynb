{
 "cells": [
  {
   "cell_type": "code",
   "execution_count": 118,
   "metadata": {},
   "outputs": [],
   "source": [
    "import pandas as pd\n",
    "import numpy as np\n",
    "from random import shuffle\n",
    "from numpy.linalg import inv\n",
    "from math import floor, log\n",
    "import os\n",
    "import argparse\n",
    "\n",
    "train_path = \"./data/train.csv\"\n",
    "test_path = \"./data/test.csv\""
   ]
  },
  {
   "cell_type": "code",
   "execution_count": 119,
   "metadata": {},
   "outputs": [],
   "source": [
    "attr = [\"age\", \"workclass\", \"fnlwgt\", \"education\", \"education-num\",\\\n",
    "       \"marital-status\", \"occupation\", \"relationship\", \"race\", \"sex\",\\\n",
    "       \"capital-gain\", \"capital-loss\", \"hours-per-week\", \"native-country\", \"income\"]\n",
    "con_attr = [\"age\", \"fnlwgt\", \"education-num\", \"capital-gain\", \"capital-loss\", \"hours-per-week\"]\n",
    "bool_attr = [\"sex\"]\n",
    "cat_attr = list(set(attr) - set(con_attr) - set(bool_attr))"
   ]
  },
  {
   "cell_type": "code",
   "execution_count": 120,
   "metadata": {},
   "outputs": [],
   "source": [
    "train_raw_data = pd.read_csv(train_path, sep=\",\", names=attr)\n",
    "test_raw_data = pd.read_csv(test_path, sep=\",\", names=attr)"
   ]
  },
  {
   "cell_type": "code",
   "execution_count": 121,
   "metadata": {},
   "outputs": [],
   "source": [
    "# 数据预处理\n",
    "def dataProcess_X(rawData):\n",
    "    # income不在该函数处理\n",
    "    # sex由于只有两个属性，可以视作bool型0-1变量\n",
    "    if \"income\" in rawData.columns:\n",
    "        Data = rawData.drop([\"sex\", 'income'], axis=1)\n",
    "    else:\n",
    "        Data = rawData.drop([\"sex\"], axis=1)\n",
    "    # 读取非连续型数据\n",
    "    listObjectColumn = [col for col in Data.columns if Data[col].dtypes == \"object\"]\n",
    "    # 读取连续型数据\n",
    "    listNonObjedtColumn = [x for x in list(Data) if x not in listObjectColumn]\n",
    "    \n",
    "    ObjectData = Data[listObjectColumn]\n",
    "    NonObjectData = Data[listNonObjedtColumn]\n",
    "    \n",
    "    # 对连续型数据normalize 标准化\n",
    "    NonObjectData = (NonObjectData - NonObjectData.mean()) / NonObjectData.std()\n",
    "    \n",
    "    # 讲sex数据插入\n",
    "    NonObjectData.insert(0 ,\"sex\", (rawData[\"sex\"] == \" Female\").astype(np.int))\n",
    "    # one-hot编码 将非连续数据中的“？”作为一个独立的属性\n",
    "    ObjectData = pd.get_dummies(ObjectData)\n",
    "    # 合并\n",
    "    Data = pd.concat([NonObjectData, ObjectData], axis=1)\n",
    "\n",
    "    return Data\n",
    "\n",
    "def dataProcess_Y(rawData):\n",
    "    df_y = rawData['income']\n",
    "    Data_y = pd.DataFrame((df_y ==' >50K').astype(\"int64\"), columns=[\"income\"])\n",
    "    return Data_y"
   ]
  },
  {
   "cell_type": "code",
   "execution_count": 122,
   "metadata": {},
   "outputs": [],
   "source": [
    "def sigmoid(z):\n",
    "    res = 1 / (1.0 + np.exp(-z))\n",
    "    return np.clip(res, 1e-8, (1-(1e-8)))\n",
    "\n",
    "# X and Y are np.array\n",
    "def _shuffle(X, Y):\n",
    "    randomize = np.arange(X.shape[0])\n",
    "    np.random.shuffle(randomize)\n",
    "    return (X[randomize], Y[randomize])\n",
    "\n",
    "def split_valid_set(X, Y, percentage):\n",
    "    all_size = X.shape[0]\n",
    "    valid_size = int(floor(all_size * percentage))\n",
    "\n",
    "    X, Y = _shuffle(X, Y)\n",
    "    X_valid, Y_valid = X[: valid_size], Y[: valid_size]\n",
    "    X_train, Y_train = X[valid_size :], Y[valid_size :]\n",
    "\n",
    "    return X_train, Y_train, X_valid, Y_valid\n",
    "\n",
    "def valid(X, Y, mu1, mu2, shared_sigma, N1, N2):\n",
    "    sigma_inv = inv(shared_sigma)\n",
    "    w = np.dot((mu1-mu2), sigma_inv)\n",
    "    X_t = X.T\n",
    "    b = (-0.5) * np.dot(np.dot(mu1.T, sigma_inv), mu1) + (0.5) * np.dot(np.dot(mu2.T, sigma_inv), mu2) + np.log(float(N1)/N2)\n",
    "    a = np.dot(w,X_t) + b\n",
    "    y = sigmoid(a)\n",
    "    y_ = np.around(y)\n",
    "    result = (np.squeeze(Y) == y_)\n",
    "    print('generation model 准确率 = %f' % (float(result.sum()) / result.shape[0]))\n",
    "    return\n",
    "\n",
    "def train(X_train, Y_train):\n",
    "    # vaild_set_percetange = 0.1\n",
    "    # X_train, Y_train, X_valid, Y_valid = split_valid_set(X, Y, vaild_set_percetange)\n",
    "\n",
    "    #Gussian distribution parameters\n",
    "    train_data_size = X_train.shape[0]\n",
    "    attr_nums = X_train.shape[1]\n",
    "    \n",
    "    cnt1 = 0\n",
    "    cnt2 = 0\n",
    "\n",
    "    mu1 = np.zeros((attr_nums,))\n",
    "    mu2 = np.zeros((attr_nums,))\n",
    "    for i in range(train_data_size):\n",
    "        if Y_train[i] == 1:     # >50k\n",
    "            mu1 += X_train[i]\n",
    "            cnt1 += 1\n",
    "        else:\n",
    "            mu2 += X_train[i]\n",
    "            cnt2 += 1\n",
    "    mu1 /= cnt1\n",
    "    mu2 /= cnt2\n",
    "\n",
    "    sigma1 = np.zeros((attr_nums, attr_nums))\n",
    "    sigma2 = np.zeros((attr_nums, attr_nums))\n",
    "    for i in range(train_data_size):\n",
    "        if Y_train[i] == 1:\n",
    "            sigma1 += np.dot(np.transpose([X_train[i] - mu1]), [X_train[i] - mu1])\n",
    "        else:\n",
    "            sigma2 += np.dot(np.transpose([X_train[i] - mu2]), [X_train[i] - mu2])\n",
    "\n",
    "    sigma1 /= cnt1\n",
    "    sigma2 /= cnt2\n",
    "    shared_sigma = (float(cnt1) / train_data_size) * sigma1 + (float(cnt2) / train_data_size) * sigma2\n",
    "\n",
    "    N1 = cnt1\n",
    "    N2 = cnt2\n",
    "\n",
    "    return mu1, mu2, shared_sigma, N1, N2"
   ]
  },
  {
   "cell_type": "code",
   "execution_count": 123,
   "metadata": {},
   "outputs": [],
   "source": [
    "x_train = dataProcess_X(train_raw_data).drop(['native-country_ Holand-Netherlands'], axis=1).values\n",
    "x_test = dataProcess_X(test_raw_data).values\n",
    "y_train = dataProcess_Y(train_raw_data).values\n",
    "y_test = dataProcess_Y(test_raw_data).values"
   ]
  },
  {
   "cell_type": "code",
   "execution_count": 124,
   "metadata": {},
   "outputs": [],
   "source": [
    "# 讲训练集分割初训练和验证集合 90%train 10%valid\n",
    "vaild_set_percetange = 0.1\n",
    "X_train, Y_train, X_valid, Y_valid = split_valid_set(x_train, y_train, vaild_set_percetange)"
   ]
  },
  {
   "cell_type": "code",
   "execution_count": 125,
   "metadata": {},
   "outputs": [
    {
     "name": "stdout",
     "output_type": "stream",
     "text": [
      "在训练集的验证集上验证结果：\n",
      "generation model 准确率 = 0.240786\n",
      "在测试集上验证结果：\n",
      "测试集准确率 = 0.763774\n"
     ]
    },
    {
     "name": "stderr",
     "output_type": "stream",
     "text": [
      "/home/ddrh/Software/python_venv/general/lib/python3.5/site-packages/ipykernel_launcher.py:2: RuntimeWarning: overflow encountered in exp\n",
      "  \n"
     ]
    }
   ],
   "source": [
    "mu1, mu2, shared_sigma, N1, N2 = train(X_train, Y_train)\n",
    "print(\"在训练集的验证集上验证结果：\")\n",
    "valid(X_valid, Y_valid, mu1, mu2, shared_sigma, N1, N2)\n",
    "mu1, mu2, shared_sigma, N1, N2 = train(x_train, y_train)\n",
    "sigma_inv = inv(shared_sigma)\n",
    "w = np.dot((mu1 - mu2), sigma_inv)\n",
    "X_t = x_test.T\n",
    "b = (-0.5) * np.dot(np.dot(mu1.T, sigma_inv), mu1) + (0.5) * np.dot(np.dot(mu2.T, sigma_inv), mu2) + np.log(\n",
    "    float(N1) / N2)\n",
    "a = np.dot(w, X_t) + b\n",
    "y = sigmoid(a)\n",
    "y_ = np.around(y).astype(np.int)\n",
    "df = pd.DataFrame({\"id\" : np.arange(1,16282), \"label\": y_})\n",
    "result = (np.squeeze(y_test) == y_)\n",
    "print(\"在测试集上验证结果：\")\n",
    "print('测试集准确率 = %f' % (float(result.sum()) / result.shape[0]))"
   ]
  },
  {
   "cell_type": "code",
   "execution_count": 126,
   "metadata": {},
   "outputs": [
    {
     "data": {
      "text/plain": [
       "3846"
      ]
     },
     "execution_count": 126,
     "metadata": {},
     "output_type": "execute_result"
    }
   ],
   "source": [
    "np.sum(y_test)"
   ]
  }
 ],
 "metadata": {
  "kernelspec": {
   "display_name": "Python 3",
   "language": "python",
   "name": "python3"
  },
  "language_info": {
   "codemirror_mode": {
    "name": "ipython",
    "version": 3
   },
   "file_extension": ".py",
   "mimetype": "text/x-python",
   "name": "python",
   "nbconvert_exporter": "python",
   "pygments_lexer": "ipython3",
   "version": "3.5.2"
  }
 },
 "nbformat": 4,
 "nbformat_minor": 2
}
