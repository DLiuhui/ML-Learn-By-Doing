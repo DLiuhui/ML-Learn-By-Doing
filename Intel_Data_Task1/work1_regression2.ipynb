{
 "cells": [
  {
   "cell_type": "code",
   "execution_count": 1,
   "metadata": {},
   "outputs": [],
   "source": [
    "import pandas as pd\n",
    "import numpy as np\n",
    "\n",
    "train_path = \"train.csv\"\n",
    "test_path = \"val.csv\""
   ]
  },
  {
   "cell_type": "code",
   "execution_count": 2,
   "metadata": {},
   "outputs": [],
   "source": [
    "# read data\n",
    "train_raw_data = pd.read_csv(train_path, sep=\";\")\n",
    "test_raw_data = pd.read_csv(test_path, sep=\";\")\n",
    "raw_data = pd.concat([train_raw_data, test_raw_data])\n",
    "n_train = len(train_raw_data)\n",
    "n_test = len(test_raw_data)"
   ]
  },
  {
   "cell_type": "code",
   "execution_count": 3,
   "metadata": {},
   "outputs": [
    {
     "name": "stdout",
     "output_type": "stream",
     "text": [
      "<class 'pandas.core.frame.DataFrame'>\n",
      "Int64Index: 640 entries, 0 to 99\n",
      "Data columns (total 21 columns):\n",
      "ID                                 640 non-null int64\n",
      "Reason for absence                 640 non-null int64\n",
      "Month of absence                   640 non-null int64\n",
      "Day of the week                    640 non-null int64\n",
      "Seasons                            640 non-null int64\n",
      "Transportation expense             640 non-null int64\n",
      "Distance from Residence to Work    640 non-null int64\n",
      "Service time                       640 non-null int64\n",
      "Age                                640 non-null int64\n",
      "Work load Average/day              640 non-null float64\n",
      "Hit target                         640 non-null int64\n",
      "Disciplinary failure               640 non-null int64\n",
      "Education                          640 non-null int64\n",
      "Son                                640 non-null int64\n",
      "Social drinker                     640 non-null int64\n",
      "Social smoker                      640 non-null int64\n",
      "Pet                                640 non-null int64\n",
      "Weight                             640 non-null int64\n",
      "Height                             640 non-null int64\n",
      "Body mass index                    640 non-null int64\n",
      "Absenteeism time in hours          640 non-null int64\n",
      "dtypes: float64(1), int64(20)\n",
      "memory usage: 110.0 KB\n"
     ]
    }
   ],
   "source": [
    "raw_data.info()"
   ]
  },
  {
   "cell_type": "code",
   "execution_count": 4,
   "metadata": {},
   "outputs": [
    {
     "data": {
      "text/html": [
       "<div>\n",
       "<style scoped>\n",
       "    .dataframe tbody tr th:only-of-type {\n",
       "        vertical-align: middle;\n",
       "    }\n",
       "\n",
       "    .dataframe tbody tr th {\n",
       "        vertical-align: top;\n",
       "    }\n",
       "\n",
       "    .dataframe thead th {\n",
       "        text-align: right;\n",
       "    }\n",
       "</style>\n",
       "<table border=\"1\" class=\"dataframe\">\n",
       "  <thead>\n",
       "    <tr style=\"text-align: right;\">\n",
       "      <th></th>\n",
       "      <th>ID</th>\n",
       "      <th>Reason for absence</th>\n",
       "      <th>Month of absence</th>\n",
       "      <th>Day of the week</th>\n",
       "      <th>Seasons</th>\n",
       "      <th>Transportation expense</th>\n",
       "      <th>Distance from Residence to Work</th>\n",
       "      <th>Service time</th>\n",
       "      <th>Age</th>\n",
       "      <th>Work load Average/day</th>\n",
       "      <th>...</th>\n",
       "      <th>Disciplinary failure</th>\n",
       "      <th>Education</th>\n",
       "      <th>Son</th>\n",
       "      <th>Social drinker</th>\n",
       "      <th>Social smoker</th>\n",
       "      <th>Pet</th>\n",
       "      <th>Weight</th>\n",
       "      <th>Height</th>\n",
       "      <th>Body mass index</th>\n",
       "      <th>Absenteeism time in hours</th>\n",
       "    </tr>\n",
       "  </thead>\n",
       "  <tbody>\n",
       "    <tr>\n",
       "      <th>count</th>\n",
       "      <td>640.000000</td>\n",
       "      <td>640.000000</td>\n",
       "      <td>640.000000</td>\n",
       "      <td>640.000000</td>\n",
       "      <td>640.00000</td>\n",
       "      <td>640.000000</td>\n",
       "      <td>640.000000</td>\n",
       "      <td>640.000000</td>\n",
       "      <td>640.000000</td>\n",
       "      <td>640.000000</td>\n",
       "      <td>...</td>\n",
       "      <td>640.000000</td>\n",
       "      <td>640.000000</td>\n",
       "      <td>640.000000</td>\n",
       "      <td>640.000000</td>\n",
       "      <td>640.000000</td>\n",
       "      <td>640.000000</td>\n",
       "      <td>640.000000</td>\n",
       "      <td>640.000000</td>\n",
       "      <td>640.000000</td>\n",
       "      <td>640.000000</td>\n",
       "    </tr>\n",
       "    <tr>\n",
       "      <th>mean</th>\n",
       "      <td>17.764063</td>\n",
       "      <td>19.440625</td>\n",
       "      <td>6.562500</td>\n",
       "      <td>3.893750</td>\n",
       "      <td>2.54375</td>\n",
       "      <td>223.457812</td>\n",
       "      <td>30.401563</td>\n",
       "      <td>12.667188</td>\n",
       "      <td>36.382812</td>\n",
       "      <td>275.071378</td>\n",
       "      <td>...</td>\n",
       "      <td>0.056250</td>\n",
       "      <td>1.242188</td>\n",
       "      <td>1.028125</td>\n",
       "      <td>0.585938</td>\n",
       "      <td>0.068750</td>\n",
       "      <td>0.692187</td>\n",
       "      <td>79.231250</td>\n",
       "      <td>171.882812</td>\n",
       "      <td>26.810938</td>\n",
       "      <td>6.631250</td>\n",
       "    </tr>\n",
       "    <tr>\n",
       "      <th>std</th>\n",
       "      <td>11.052682</td>\n",
       "      <td>8.419158</td>\n",
       "      <td>3.591744</td>\n",
       "      <td>1.427856</td>\n",
       "      <td>1.15387</td>\n",
       "      <td>65.853787</td>\n",
       "      <td>14.870952</td>\n",
       "      <td>4.331005</td>\n",
       "      <td>6.311082</td>\n",
       "      <td>40.245612</td>\n",
       "      <td>...</td>\n",
       "      <td>0.230584</td>\n",
       "      <td>0.612163</td>\n",
       "      <td>1.129692</td>\n",
       "      <td>0.492945</td>\n",
       "      <td>0.253226</td>\n",
       "      <td>1.176425</td>\n",
       "      <td>12.710067</td>\n",
       "      <td>5.945792</td>\n",
       "      <td>4.241557</td>\n",
       "      <td>12.279159</td>\n",
       "    </tr>\n",
       "    <tr>\n",
       "      <th>min</th>\n",
       "      <td>1.000000</td>\n",
       "      <td>0.000000</td>\n",
       "      <td>1.000000</td>\n",
       "      <td>2.000000</td>\n",
       "      <td>1.00000</td>\n",
       "      <td>118.000000</td>\n",
       "      <td>5.000000</td>\n",
       "      <td>1.000000</td>\n",
       "      <td>27.000000</td>\n",
       "      <td>205.917000</td>\n",
       "      <td>...</td>\n",
       "      <td>0.000000</td>\n",
       "      <td>1.000000</td>\n",
       "      <td>0.000000</td>\n",
       "      <td>0.000000</td>\n",
       "      <td>0.000000</td>\n",
       "      <td>0.000000</td>\n",
       "      <td>56.000000</td>\n",
       "      <td>163.000000</td>\n",
       "      <td>19.000000</td>\n",
       "      <td>0.000000</td>\n",
       "    </tr>\n",
       "    <tr>\n",
       "      <th>25%</th>\n",
       "      <td>7.000000</td>\n",
       "      <td>13.000000</td>\n",
       "      <td>3.000000</td>\n",
       "      <td>3.000000</td>\n",
       "      <td>2.00000</td>\n",
       "      <td>179.000000</td>\n",
       "      <td>17.000000</td>\n",
       "      <td>9.000000</td>\n",
       "      <td>31.000000</td>\n",
       "      <td>246.074000</td>\n",
       "      <td>...</td>\n",
       "      <td>0.000000</td>\n",
       "      <td>1.000000</td>\n",
       "      <td>0.000000</td>\n",
       "      <td>0.000000</td>\n",
       "      <td>0.000000</td>\n",
       "      <td>0.000000</td>\n",
       "      <td>69.000000</td>\n",
       "      <td>169.000000</td>\n",
       "      <td>24.000000</td>\n",
       "      <td>2.000000</td>\n",
       "    </tr>\n",
       "    <tr>\n",
       "      <th>50%</th>\n",
       "      <td>18.000000</td>\n",
       "      <td>23.000000</td>\n",
       "      <td>7.000000</td>\n",
       "      <td>4.000000</td>\n",
       "      <td>2.00000</td>\n",
       "      <td>225.000000</td>\n",
       "      <td>26.000000</td>\n",
       "      <td>13.000000</td>\n",
       "      <td>37.000000</td>\n",
       "      <td>265.017000</td>\n",
       "      <td>...</td>\n",
       "      <td>0.000000</td>\n",
       "      <td>1.000000</td>\n",
       "      <td>1.000000</td>\n",
       "      <td>1.000000</td>\n",
       "      <td>0.000000</td>\n",
       "      <td>0.000000</td>\n",
       "      <td>83.000000</td>\n",
       "      <td>170.000000</td>\n",
       "      <td>25.000000</td>\n",
       "      <td>3.000000</td>\n",
       "    </tr>\n",
       "    <tr>\n",
       "      <th>75%</th>\n",
       "      <td>28.000000</td>\n",
       "      <td>26.000000</td>\n",
       "      <td>10.000000</td>\n",
       "      <td>5.000000</td>\n",
       "      <td>4.00000</td>\n",
       "      <td>260.000000</td>\n",
       "      <td>50.000000</td>\n",
       "      <td>16.000000</td>\n",
       "      <td>40.000000</td>\n",
       "      <td>302.585000</td>\n",
       "      <td>...</td>\n",
       "      <td>0.000000</td>\n",
       "      <td>1.000000</td>\n",
       "      <td>2.000000</td>\n",
       "      <td>1.000000</td>\n",
       "      <td>0.000000</td>\n",
       "      <td>1.000000</td>\n",
       "      <td>89.000000</td>\n",
       "      <td>172.000000</td>\n",
       "      <td>31.000000</td>\n",
       "      <td>8.000000</td>\n",
       "    </tr>\n",
       "    <tr>\n",
       "      <th>max</th>\n",
       "      <td>36.000000</td>\n",
       "      <td>28.000000</td>\n",
       "      <td>12.000000</td>\n",
       "      <td>6.000000</td>\n",
       "      <td>4.00000</td>\n",
       "      <td>388.000000</td>\n",
       "      <td>52.000000</td>\n",
       "      <td>29.000000</td>\n",
       "      <td>58.000000</td>\n",
       "      <td>378.884000</td>\n",
       "      <td>...</td>\n",
       "      <td>1.000000</td>\n",
       "      <td>4.000000</td>\n",
       "      <td>4.000000</td>\n",
       "      <td>1.000000</td>\n",
       "      <td>1.000000</td>\n",
       "      <td>8.000000</td>\n",
       "      <td>108.000000</td>\n",
       "      <td>196.000000</td>\n",
       "      <td>38.000000</td>\n",
       "      <td>120.000000</td>\n",
       "    </tr>\n",
       "  </tbody>\n",
       "</table>\n",
       "<p>8 rows × 21 columns</p>\n",
       "</div>"
      ],
      "text/plain": [
       "               ID  Reason for absence  Month of absence  Day of the week  \\\n",
       "count  640.000000          640.000000        640.000000       640.000000   \n",
       "mean    17.764063           19.440625          6.562500         3.893750   \n",
       "std     11.052682            8.419158          3.591744         1.427856   \n",
       "min      1.000000            0.000000          1.000000         2.000000   \n",
       "25%      7.000000           13.000000          3.000000         3.000000   \n",
       "50%     18.000000           23.000000          7.000000         4.000000   \n",
       "75%     28.000000           26.000000         10.000000         5.000000   \n",
       "max     36.000000           28.000000         12.000000         6.000000   \n",
       "\n",
       "         Seasons  Transportation expense  Distance from Residence to Work  \\\n",
       "count  640.00000              640.000000                       640.000000   \n",
       "mean     2.54375              223.457812                        30.401563   \n",
       "std      1.15387               65.853787                        14.870952   \n",
       "min      1.00000              118.000000                         5.000000   \n",
       "25%      2.00000              179.000000                        17.000000   \n",
       "50%      2.00000              225.000000                        26.000000   \n",
       "75%      4.00000              260.000000                        50.000000   \n",
       "max      4.00000              388.000000                        52.000000   \n",
       "\n",
       "       Service time         Age  Work load Average/day   ...  \\\n",
       "count    640.000000  640.000000              640.000000  ...   \n",
       "mean      12.667188   36.382812              275.071378  ...   \n",
       "std        4.331005    6.311082               40.245612  ...   \n",
       "min        1.000000   27.000000              205.917000  ...   \n",
       "25%        9.000000   31.000000              246.074000  ...   \n",
       "50%       13.000000   37.000000              265.017000  ...   \n",
       "75%       16.000000   40.000000              302.585000  ...   \n",
       "max       29.000000   58.000000              378.884000  ...   \n",
       "\n",
       "       Disciplinary failure   Education         Son  Social drinker  \\\n",
       "count            640.000000  640.000000  640.000000      640.000000   \n",
       "mean               0.056250    1.242188    1.028125        0.585938   \n",
       "std                0.230584    0.612163    1.129692        0.492945   \n",
       "min                0.000000    1.000000    0.000000        0.000000   \n",
       "25%                0.000000    1.000000    0.000000        0.000000   \n",
       "50%                0.000000    1.000000    1.000000        1.000000   \n",
       "75%                0.000000    1.000000    2.000000        1.000000   \n",
       "max                1.000000    4.000000    4.000000        1.000000   \n",
       "\n",
       "       Social smoker         Pet      Weight      Height  Body mass index  \\\n",
       "count     640.000000  640.000000  640.000000  640.000000       640.000000   \n",
       "mean        0.068750    0.692187   79.231250  171.882812        26.810938   \n",
       "std         0.253226    1.176425   12.710067    5.945792         4.241557   \n",
       "min         0.000000    0.000000   56.000000  163.000000        19.000000   \n",
       "25%         0.000000    0.000000   69.000000  169.000000        24.000000   \n",
       "50%         0.000000    0.000000   83.000000  170.000000        25.000000   \n",
       "75%         0.000000    1.000000   89.000000  172.000000        31.000000   \n",
       "max         1.000000    8.000000  108.000000  196.000000        38.000000   \n",
       "\n",
       "       Absenteeism time in hours  \n",
       "count                 640.000000  \n",
       "mean                    6.631250  \n",
       "std                    12.279159  \n",
       "min                     0.000000  \n",
       "25%                     2.000000  \n",
       "50%                     3.000000  \n",
       "75%                     8.000000  \n",
       "max                   120.000000  \n",
       "\n",
       "[8 rows x 21 columns]"
      ]
     },
     "execution_count": 4,
     "metadata": {},
     "output_type": "execute_result"
    }
   ],
   "source": [
    "raw_data.describe()"
   ]
  },
  {
   "cell_type": "code",
   "execution_count": 5,
   "metadata": {
    "scrolled": true
   },
   "outputs": [
    {
     "data": {
      "text/plain": [
       "<Figure size 4000x4000 with 2 Axes>"
      ]
     },
     "metadata": {},
     "output_type": "display_data"
    }
   ],
   "source": [
    "# 相关性\n",
    "# 皮尔逊相关系数\n",
    "corr_matrix = raw_data.corr()\n",
    "\n",
    "import seaborn as sns\n",
    "import matplotlib.pyplot as plt\n",
    "\n",
    "plt.figure(figsize=(40,40))\n",
    "hm=sns.heatmap(corr_matrix,cbar=True,annot=True,square=True,fmt='.2f',annot_kws={'size':15}, cmap=\"YlGnBu\")\n",
    "plt.show()"
   ]
  },
  {
   "cell_type": "code",
   "execution_count": 6,
   "metadata": {
    "scrolled": true
   },
   "outputs": [
    {
     "data": {
      "text/plain": [
       "Absenteeism time in hours          1.000000\n",
       "Height                             0.159911\n",
       "Son                                0.068664\n",
       "Social drinker                     0.052557\n",
       "Age                                0.048493\n",
       "Work load Average/day              0.047375\n",
       "Month of absence                   0.028626\n",
       "Hit target                         0.027758\n",
       "Weight                             0.016962\n",
       "Seasons                            0.014174\n",
       "ID                                 0.006738\n",
       "Service time                       0.002220\n",
       "Education                         -0.014957\n",
       "Transportation expense            -0.018801\n",
       "Social smoker                     -0.024045\n",
       "Pet                               -0.032028\n",
       "Body mass index                   -0.055786\n",
       "Distance from Residence to Work   -0.085970\n",
       "Day of the week                   -0.112918\n",
       "Disciplinary failure              -0.131947\n",
       "Reason for absence                -0.182804\n",
       "Name: Absenteeism time in hours, dtype: float64"
      ]
     },
     "execution_count": 6,
     "metadata": {},
     "output_type": "execute_result"
    }
   ],
   "source": [
    "corr_matrix['Absenteeism time in hours'].sort_values(ascending=False)"
   ]
  },
  {
   "cell_type": "code",
   "execution_count": 7,
   "metadata": {},
   "outputs": [
    {
     "name": "stdout",
     "output_type": "stream",
     "text": [
      "<class 'pandas.core.frame.DataFrame'>\n",
      "Int64Index: 640 entries, 0 to 99\n",
      "Data columns (total 9 columns):\n",
      "Reason for absence                 640 non-null int64\n",
      "Day of the week                    640 non-null int64\n",
      "Distance from Residence to Work    640 non-null int64\n",
      "Disciplinary failure               640 non-null int64\n",
      "Son                                640 non-null int64\n",
      "Social drinker                     640 non-null int64\n",
      "Height                             640 non-null int64\n",
      "Body mass index                    640 non-null int64\n",
      "Absenteeism time in hours          640 non-null int64\n",
      "dtypes: int64(9)\n",
      "memory usage: 50.0 KB\n"
     ]
    }
   ],
   "source": [
    "raw_data = raw_data.drop(columns=[\"Age\", \"Work load Average/day \", \"Month of absence\", \"Hit target\", \"Weight\", \"Seasons\", \"ID\", \"Service time\", \"Education\", \"Transportation expense\", \"Social smoker\", \"Pet\"])\n",
    "raw_data.info()"
   ]
  },
  {
   "cell_type": "code",
   "execution_count": 8,
   "metadata": {},
   "outputs": [
    {
     "data": {
      "text/plain": [
       "<Figure size 432x288 with 0 Axes>"
      ]
     },
     "metadata": {},
     "output_type": "display_data"
    },
    {
     "data": {
      "image/png": "[encoded data removed]",
      "text/plain": [
       "<Figure size 2160x2160 with 9 Axes>"
      ]
     },
     "metadata": {
      "needs_background": "light"
     },
     "output_type": "display_data"
    }
   ],
   "source": [
    "plt.figure(1)\n",
    "raw_data.hist(bins=20, figsize=(30, 30))\n",
    "plt.show()"
   ]
  },
  {
   "cell_type": "code",
   "execution_count": 9,
   "metadata": {
    "scrolled": true
   },
   "outputs": [
    {
     "name": "stderr",
     "output_type": "stream",
     "text": [
      "/home/ddrh/Software/python_venv/general/lib/python3.5/importlib/_bootstrap.py:222: RuntimeWarning: numpy.dtype size changed, may indicate binary incompatibility. Expected 96, got 88\n",
      "  return f(*args, **kwds)\n",
      "/home/ddrh/Software/python_venv/general/lib/python3.5/importlib/_bootstrap.py:222: RuntimeWarning: numpy.dtype size changed, may indicate binary incompatibility. Expected 96, got 88\n",
      "  return f(*args, **kwds)\n"
     ]
    },
    {
     "data": {
      "text/plain": [
       "array([[0., 1., 0., 0., 0.],\n",
       "       [0., 1., 0., 0., 0.],\n",
       "       [0., 0., 1., 0., 0.],\n",
       "       ...,\n",
       "       [1., 0., 0., 0., 0.],\n",
       "       [0., 1., 0., 0., 0.],\n",
       "       [0., 0., 1., 0., 0.]])"
      ]
     },
     "execution_count": 9,
     "metadata": {},
     "output_type": "execute_result"
    }
   ],
   "source": [
    "# one-hot encoder\n",
    "# attr education has been delete, so no need to encoder\n",
    "# 离散\n",
    "from sklearn import preprocessing\n",
    "featureCatCols = [\"Day of the week\"]\n",
    "X_vec_cat = raw_data[featureCatCols].values\n",
    "enc=preprocessing.OneHotEncoder(categories='auto')\n",
    "enc.fit(X_vec_cat)\n",
    "X_vec_cat_ed=enc.transform(X_vec_cat).toarray()\n",
    "X_vec_cat_ed"
   ]
  },
  {
   "cell_type": "code",
   "execution_count": 10,
   "metadata": {},
   "outputs": [
    {
     "name": "stderr",
     "output_type": "stream",
     "text": [
      "/home/ddrh/Software/python_venv/general/lib/python3.5/site-packages/ipykernel_launcher.py:7: SettingWithCopyWarning: \n",
      "A value is trying to be set on a copy of a slice from a DataFrame.\n",
      "Try using .loc[row_indexer,col_indexer] = value instead\n",
      "\n",
      "See the caveats in the documentation: http://pandas.pydata.org/pandas-docs/stable/indexing.html#indexing-view-versus-copy\n",
      "  import sys\n"
     ]
    }
   ],
   "source": [
    "# for continuous\n",
    "# deal with skew\n",
    "featureConCols = [\"Height\", \"Reason for absence\", \"Body mass index\", \"Distance from Residence to Work\", \"Son\"]\n",
    "dataFeatureCon = raw_data[featureConCols]\n",
    "for attr in featureConCols:\n",
    "    if(dataFeatureCon[attr].skew(axis=0) > 1.0):\n",
    "        dataFeatureCon[attr] = np.log(dataFeatureCon[attr] + 1)\n",
    "\n",
    "# Standard\n",
    "X_vec_con = dataFeatureCon.values\n",
    "scaler=preprocessing.StandardScaler().fit(X_vec_con)\n",
    "X_vec_con_ed=scaler.transform(X_vec_con)"
   ]
  },
  {
   "cell_type": "code",
   "execution_count": 11,
   "metadata": {},
   "outputs": [],
   "source": [
    "# others\n",
    "featureOthers = [\"Disciplinary failure\", \"Social drinker\"]\n",
    "X_vec_other = raw_data[featureOthers].values"
   ]
  },
  {
   "cell_type": "code",
   "execution_count": 12,
   "metadata": {},
   "outputs": [],
   "source": [
    "X_vec=np.concatenate((X_vec_con_ed,X_vec_cat_ed, X_vec_other),axis=1)"
   ]
  },
  {
   "cell_type": "code",
   "execution_count": 13,
   "metadata": {},
   "outputs": [],
   "source": [
    "# 构建 target 向量\n",
    "# 目标\n",
    "dataFeatureConTarget = raw_data[\"Absenteeism time in hours\"]\n",
    "Y_vec = dataFeatureConTarget.values\n",
    "Y_vec = Y_vec[:, np.newaxis]"
   ]
  },
  {
   "cell_type": "code",
   "execution_count": 14,
   "metadata": {},
   "outputs": [
    {
     "name": "stdout",
     "output_type": "stream",
     "text": [
      "(540, 12) (540, 1) (100, 12) (100, 1)\n"
     ]
    }
   ],
   "source": [
    "# select again\n",
    "from sklearn.feature_selection import GenericUnivariateSelect, f_classif\n",
    "attrs = 10\n",
    "transformer = GenericUnivariateSelect(f_regression, 'k_best', param=attrs)\n",
    "X_vec_ed = transformer.fit_transform(X_vec, Y_vec)\n",
    "\n",
    "x_train = X_vec_ed[0 : n_train]\n",
    "y_train = Y_vec[0 : n_train]\n",
    "x_test = X_vec_ed[n_train : n_test+n_train]\n",
    "y_test = Y_vec[n_train : n_test+n_train]\n",
    "print(x_train.shape, y_train.shape, x_test.shape, y_test.shape)\n",
    "\n",
    "# split train and test data\n",
    "x_train = X_vec[0 : n_train]\n",
    "y_train = Y_vec[0 : n_train]\n",
    "x_test = X_vec[n_train : n_test+n_train]\n",
    "y_test = Y_vec[n_train : n_test+n_train]\n",
    "print(x_train.shape, y_train.shape, x_test.shape, y_test.shape)"
   ]
  },
  {
   "cell_type": "code",
   "execution_count": 15,
   "metadata": {},
   "outputs": [
    {
     "name": "stderr",
     "output_type": "stream",
     "text": [
      "/home/ddrh/Software/python_venv/general/lib/python3.5/importlib/_bootstrap.py:222: RuntimeWarning: numpy.dtype size changed, may indicate binary incompatibility. Expected 96, got 88\n",
      "  return f(*args, **kwds)\n"
     ]
    },
    {
     "name": "stdout",
     "output_type": "stream",
     "text": [
      "MSE =  164.9904884617109\n",
      "RMSE =  12.844862337203576\n",
      "R2 =  0.15522389206819243\n",
      "R2 =  0.1352536606471043\n"
     ]
    },
    {
     "data": {
      "image/png": "[encoded data removed]",
      "text/plain": [
       "<Figure size 432x288 with 1 Axes>"
      ]
     },
     "metadata": {
      "needs_background": "light"
     },
     "output_type": "display_data"
    }
   ],
   "source": [
    "# linear regression\n",
    "import matplotlib.pyplot as plt\n",
    "from sklearn.linear_model import LinearRegression\n",
    "from sklearn.metrics import mean_squared_error\n",
    "\n",
    "linreg = LinearRegression().fit(x_train, y_train)\n",
    "y_pre = linreg.predict(x_test)\n",
    "mse = mean_squared_error(y_test, y_pre)\n",
    "rmse = np.sqrt(mse)\n",
    "print('MSE = ', mse)\n",
    "print('RMSE = ', rmse)\n",
    "print('R2 = ', linreg.score(x_train, y_train))\n",
    "print('R2 = ', linreg.score(x_test, y_test))\n",
    "plt.figure(2)\n",
    "t = np.arange(len(x_test))\n",
    "plt.plot(t, y_test, 'r-', linewidth=2, label=\"real data\")\n",
    "plt.plot(t, y_pre, 'g-', linewidth=2, label=\"predict data\")\n",
    "plt.legend(loc='upper right')\n",
    "plt.title(\"linear regression\", fontsize=10)\n",
    "plt.grid(b=True)\n",
    "plt.show()"
   ]
  },
  {
   "cell_type": "code",
   "execution_count": 16,
   "metadata": {},
   "outputs": [
    {
     "name": "stdout",
     "output_type": "stream",
     "text": [
      "MSE =  164.9904884617109\n",
      "RMSE =  12.844862337203576\n",
      "R2 =  0.05780837080659585\n",
      "R2 =  0.043742360325094376\n"
     ]
    },
    {
     "name": "stderr",
     "output_type": "stream",
     "text": [
      "/home/ddrh/Software/python_venv/general/lib/python3.5/site-packages/sklearn/utils/validation.py:761: DataConversionWarning: A column-vector y was passed when a 1d array was expected. Please change the shape of y to (n_samples, ), for example using ravel().\n",
      "  y = column_or_1d(y, warn=True)\n"
     ]
    },
    {
     "data": {
      "image/png": "[encoded data removed]",
      "text/plain": [
       "<Figure size 432x288 with 1 Axes>"
      ]
     },
     "metadata": {
      "needs_background": "light"
     },
     "output_type": "display_data"
    }
   ],
   "source": [
    "# using svr\n",
    "from sklearn.svm import SVR\n",
    "clf = SVR(kernel=\"linear\", C=1.0, epsilon=0.2)\n",
    "clf.fit(x_train, y_train)\n",
    "y_pred = clf.predict(x_test)\n",
    "mse = mean_squared_error(y_test, y_pre)\n",
    "rmse = np.sqrt(mse)\n",
    "print('MSE = ', mse)\n",
    "print('RMSE = ', rmse)\n",
    "print('R2 = ', clf.score(x_train, y_train))\n",
    "print('R2 = ', clf.score(x_test, y_test))\n",
    "plt.figure(3)\n",
    "t = np.arange(len(x_test))\n",
    "plt.plot(t, y_test, 'r-', linewidth=2, label=\"real data\")\n",
    "plt.plot(t, y_pre, 'g-', linewidth=2, label=\"predict data\")\n",
    "plt.legend(loc='upper right')\n",
    "plt.title(\"linear regression\", fontsize=10)\n",
    "plt.grid(b=True)\n",
    "plt.show()"
   ]
  },
  {
   "cell_type": "code",
   "execution_count": null,
   "metadata": {},
   "outputs": [],
   "source": []
  }
 ],
 "metadata": {
  "kernelspec": {
   "display_name": "Python 3",
   "language": "python",
   "name": "python3"
  },
  "language_info": {
   "codemirror_mode": {
    "name": "ipython",
    "version": 3
   },
   "file_extension": ".py",
   "mimetype": "text/x-python",
   "name": "python",
   "nbconvert_exporter": "python",
   "pygments_lexer": "ipython3",
   "version": "3.5.2"
  }
 },
 "nbformat": 4,
 "nbformat_minor": 2
}
