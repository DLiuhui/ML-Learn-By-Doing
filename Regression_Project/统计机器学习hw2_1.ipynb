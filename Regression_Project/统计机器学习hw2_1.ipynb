{
 "cells": [
  {
   "cell_type": "code",
   "execution_count": 95,
   "metadata": {},
   "outputs": [],
   "source": [
    "train_path = \"./data/train.csv\"\n",
    "test_path = \"./data/test.csv\"\n",
    "ans_path = \"./data/ans.csv\""
   ]
  },
  {
   "cell_type": "code",
   "execution_count": 96,
   "metadata": {},
   "outputs": [],
   "source": [
    "train_raw = pd.read_csv(train_path, sep=',', encoding='big5')\n",
    "test_data = pd.read_csv(test_path, sep=',', encoding='big5', names=['id','index','1','2','3','4','5','6','7','8','9'])"
   ]
  },
  {
   "cell_type": "code",
   "execution_count": 97,
   "metadata": {},
   "outputs": [],
   "source": [
    "train_1 = train_raw.iloc[:, 3:3+10]\n",
    "train_2 = train_raw.iloc[:, 16:16+10]\n",
    "attr_index = train_raw.iloc[:, 2]"
   ]
  },
  {
   "cell_type": "code",
   "execution_count": 98,
   "metadata": {},
   "outputs": [],
   "source": [
    "train_1 = pd.concat([train_1, attr_index], axis=1)\n",
    "train_2 = pd.concat([train_2, attr_index], axis=1)"
   ]
  },
  {
   "cell_type": "code",
   "execution_count": 99,
   "metadata": {},
   "outputs": [],
   "source": [
    "y_1 = train_1[train_1[\"測項\"] == \"PM2.5\"]\n",
    "y_1 = y_1['9'].values\n",
    "y_2 = train_2[train_2[\"測項\"] == \"PM2.5\"]\n",
    "y_2 = y_2['22'].values\n",
    "Y = np.concatenate((y_1, y_2), axis=0)\n",
    "Y = Y.astype('float64')\n",
    "Y = Y[:,np.newaxis]\n",
    "del y_1, y_2"
   ]
  },
  {
   "cell_type": "code",
   "execution_count": 100,
   "metadata": {},
   "outputs": [
    {
     "name": "stderr",
     "output_type": "stream",
     "text": [
      "/home/ddrh/Software/python_venv/general/lib/python3.5/site-packages/pandas/core/frame.py:4042: SettingWithCopyWarning: \n",
      "A value is trying to be set on a copy of a slice from a DataFrame\n",
      "\n",
      "See the caveats in the documentation: http://pandas.pydata.org/pandas-docs/stable/indexing.html#indexing-view-versus-copy\n",
      "  method=method)\n"
     ]
    }
   ],
   "source": [
    "x_1 = train_1.iloc[:,0:9]\n",
    "x_2 = train_2.iloc[:,0:9]\n",
    "x_1.replace('NR',0,inplace=True)\n",
    "x_2.replace('NR',0,inplace=True)"
   ]
  },
  {
   "cell_type": "code",
   "execution_count": 101,
   "metadata": {},
   "outputs": [],
   "source": [
    "x_1 = x_1.values.reshape((240, -1))\n",
    "x_2 = x_2.values.reshape((240, -1))\n",
    "X_raw = np.concatenate((x_1, x_2), axis=0)\n",
    "X_raw = X_raw.astype('float64')"
   ]
  },
  {
   "cell_type": "code",
   "execution_count": 102,
   "metadata": {},
   "outputs": [],
   "source": [
    "tmp = np.ones(Y.shape)\n",
    "X = np.c_[tmp, X_raw]\n",
    "del tmp"
   ]
  },
  {
   "cell_type": "code",
   "execution_count": 103,
   "metadata": {},
   "outputs": [],
   "source": [
    "test_data.replace('NR',0,inplace=True)"
   ]
  },
  {
   "cell_type": "code",
   "execution_count": 104,
   "metadata": {},
   "outputs": [],
   "source": [
    "x_test = test_data.iloc[:, 2:].values.reshape((240, -1)).astype('float64')"
   ]
  },
  {
   "cell_type": "code",
   "execution_count": 105,
   "metadata": {},
   "outputs": [],
   "source": [
    "tmp = np.ones(x_test.shape[0])\n",
    "x_test = np.c_[tmp, x_test]\n",
    "del tmp"
   ]
  },
  {
   "cell_type": "code",
   "execution_count": 106,
   "metadata": {},
   "outputs": [],
   "source": [
    "def training(x, y, w, iteration=1000, alpha=1e-3, eps=1e-3):\n",
    "    total = len(y)\n",
    "    # gradient descent\n",
    "    rmse = []\n",
    "    for i in range(iteration):\n",
    "        y_pre = np.dot(x,w)\n",
    "        loss = y_pre - y\n",
    "        w_new = w - alpha / total * np.dot(x.T, loss)\n",
    "        rmse.append((np.sqrt(np.dot(loss.T, loss) / total)).item())\n",
    "        if(np.max(np.abs(w_new - w)) < eps):\n",
    "            break\n",
    "        w = w_new\n",
    "    return rmse, w"
   ]
  },
  {
   "cell_type": "code",
   "execution_count": 107,
   "metadata": {},
   "outputs": [],
   "source": [
    "w = np.zeros((X.shape[1], 1))"
   ]
  },
  {
   "cell_type": "code",
   "execution_count": 108,
   "metadata": {},
   "outputs": [],
   "source": [
    "rmse, w_end = training(X, Y, w, iteration=6000, alpha=3e-6, eps=1e-10)"
   ]
  },
  {
   "cell_type": "code",
   "execution_count": 109,
   "metadata": {},
   "outputs": [
    {
     "data": {
      "image/png": "[encoded data removed]",
      "text/plain": [
       "<Figure size 432x288 with 1 Axes>"
      ]
     },
     "metadata": {
      "needs_background": "light"
     },
     "output_type": "display_data"
    }
   ],
   "source": [
    "import matplotlib.pyplot as plt\n",
    "plt.figure(0)\n",
    "plt.plot(range(len(rmse)), rmse)\n",
    "plt.show()"
   ]
  },
  {
   "cell_type": "code",
   "execution_count": 110,
   "metadata": {},
   "outputs": [],
   "source": [
    "y_test_pre = np.dot(x_test, w_end)"
   ]
  },
  {
   "cell_type": "code",
   "execution_count": 111,
   "metadata": {},
   "outputs": [],
   "source": [
    "y_test = pd.read_csv(ans_path, sep=',')"
   ]
  },
  {
   "cell_type": "code",
   "execution_count": 112,
   "metadata": {},
   "outputs": [],
   "source": [
    "y_test = y_test['value'].values.astype('float64')\n",
    "y_test = y_test[:, np.newaxis]"
   ]
  },
  {
   "cell_type": "code",
   "execution_count": 113,
   "metadata": {},
   "outputs": [
    {
     "data": {
      "text/plain": [
       "8.273641912369452"
      ]
     },
     "execution_count": 113,
     "metadata": {},
     "output_type": "execute_result"
    }
   ],
   "source": [
    "rmse_end = np.sqrt(((y_test - y_test_pre)**2).sum() / len(y_test))\n",
    "rmse_end"
   ]
  },
  {
   "cell_type": "code",
   "execution_count": null,
   "metadata": {},
   "outputs": [],
   "source": []
  }
 ],
 "metadata": {
  "kernelspec": {
   "display_name": "Python 3",
   "language": "python",
   "name": "python3"
  },
  "language_info": {
   "codemirror_mode": {
    "name": "ipython",
    "version": 3
   },
   "file_extension": ".py",
   "mimetype": "text/x-python",
   "name": "python",
   "nbconvert_exporter": "python",
   "pygments_lexer": "ipython3",
   "version": "3.5.2"
  }
 },
 "nbformat": 4,
 "nbformat_minor": 2
}
