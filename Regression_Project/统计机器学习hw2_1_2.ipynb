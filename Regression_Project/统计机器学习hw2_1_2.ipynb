{
 "cells": [
  {
   "cell_type": "code",
   "execution_count": 19,
   "metadata": {},
   "outputs": [],
   "source": [
    "import sys\n",
    "import numpy as np\n",
    "import pandas as pd\n",
    "import csv"
   ]
  },
  {
   "cell_type": "code",
   "execution_count": 20,
   "metadata": {},
   "outputs": [],
   "source": [
    "train_path = \"./data/train.csv\"\n",
    "test_path = \"./data/test.csv\"\n",
    "ans_path = \"./data/ans.csv\""
   ]
  },
  {
   "cell_type": "code",
   "execution_count": 21,
   "metadata": {},
   "outputs": [],
   "source": [
    "train_raw = pd.read_csv(train_path, sep=',', encoding='big5')\n",
    "test_data = pd.read_csv(test_path, sep=',', encoding='big5', names=['id','index','1','2','3','4','5','6','7','8','9'])"
   ]
  },
  {
   "cell_type": "code",
   "execution_count": 22,
   "metadata": {},
   "outputs": [],
   "source": [
    "train_1 = train_raw.iloc[:, 3:3+10]\n",
    "train_2 = train_raw.iloc[:, 16:16+10]\n",
    "attr_index = train_raw.iloc[:, 2]"
   ]
  },
  {
   "cell_type": "code",
   "execution_count": 23,
   "metadata": {},
   "outputs": [],
   "source": [
    "train_1 = pd.concat([train_1, attr_index], axis=1)\n",
    "train_2 = pd.concat([train_2, attr_index], axis=1)"
   ]
  },
  {
   "cell_type": "code",
   "execution_count": 24,
   "metadata": {},
   "outputs": [],
   "source": [
    "y_1 = train_1[train_1[\"測項\"] == \"PM2.5\"]\n",
    "y_2 = train_2[train_2[\"測項\"] == \"PM2.5\"]\n",
    "x_1 = y_1.iloc[:, 0:9].values.astype('float64')\n",
    "x_2 = y_2.iloc[:, 0:9].values.astype('float64')\n",
    "X = np.concatenate((x_1, x_2), axis=0)\n",
    "tmp = np.ones(X.shape[0])\n",
    "X = np.c_[tmp, X]\n",
    "del tmp\n",
    "y_1 = y_1['9'].values\n",
    "y_2 = y_2['22'].values\n",
    "Y = np.concatenate((y_1, y_2), axis=0)\n",
    "Y = Y.astype('float64')\n",
    "Y = Y[:,np.newaxis]"
   ]
  },
  {
   "cell_type": "code",
   "execution_count": 34,
   "metadata": {},
   "outputs": [],
   "source": [
    "x_test = test_data[test_data['index']=='PM2.5']\n",
    "x_test = x_test.iloc[:, 2:].values.astype('float64')\n",
    "tmp = np.ones(x_test.shape[0])\n",
    "x_test = np.c_[tmp, x_test]\n",
    "del tmp"
   ]
  },
  {
   "cell_type": "code",
   "execution_count": 35,
   "metadata": {},
   "outputs": [],
   "source": [
    "def training(x, y, w, iteration=1000, alpha=1e-3, eps=1e-3):\n",
    "    total = len(y)\n",
    "    # gradient descent\n",
    "    rmse = []\n",
    "    for i in range(iteration):\n",
    "        y_pre = np.dot(x,w)\n",
    "        loss = y_pre - y\n",
    "        w_new = w - alpha / total * np.dot(x.T, loss)\n",
    "        rmse.append((np.sqrt(np.dot(loss.T, loss) / total)).item())\n",
    "        if(np.max(np.abs(w_new - w)) < eps):\n",
    "            break\n",
    "        w = w_new\n",
    "    return rmse, w"
   ]
  },
  {
   "cell_type": "code",
   "execution_count": 38,
   "metadata": {},
   "outputs": [],
   "source": [
    "w = np.zeros((X.shape[1], 1))"
   ]
  },
  {
   "cell_type": "code",
   "execution_count": 52,
   "metadata": {},
   "outputs": [],
   "source": [
    "rmse, w_end = training(X, Y, w, iteration=6000, alpha=3e-5, eps=1e-10)"
   ]
  },
  {
   "cell_type": "code",
   "execution_count": 53,
   "metadata": {},
   "outputs": [
    {
     "data": {
      "image/png": "[encoded data removed]",
      "text/plain": [
       "<Figure size 432x288 with 1 Axes>"
      ]
     },
     "metadata": {
      "needs_background": "light"
     },
     "output_type": "display_data"
    }
   ],
   "source": [
    "import matplotlib.pyplot as plt\n",
    "plt.figure(0)\n",
    "plt.plot(range(len(rmse)), rmse)\n",
    "plt.show()"
   ]
  },
  {
   "cell_type": "code",
   "execution_count": 54,
   "metadata": {},
   "outputs": [],
   "source": [
    "y_test_pre = np.dot(x_test, w_end)"
   ]
  },
  {
   "cell_type": "code",
   "execution_count": 55,
   "metadata": {},
   "outputs": [],
   "source": [
    "y_test = pd.read_csv(ans_path, sep=',')"
   ]
  },
  {
   "cell_type": "code",
   "execution_count": 56,
   "metadata": {},
   "outputs": [],
   "source": [
    "y_test = y_test['value'].values.astype('float64')\n",
    "y_test = y_test[:, np.newaxis]"
   ]
  },
  {
   "cell_type": "code",
   "execution_count": 57,
   "metadata": {},
   "outputs": [
    {
     "data": {
      "text/plain": [
       "6.9841044138974615"
      ]
     },
     "execution_count": 57,
     "metadata": {},
     "output_type": "execute_result"
    }
   ],
   "source": [
    "rmse_end = np.sqrt(((y_test - y_test_pre)**2).sum() / len(y_test))\n",
    "rmse_end"
   ]
  },
  {
   "cell_type": "code",
   "execution_count": 58,
   "metadata": {},
   "outputs": [
    {
     "data": {
      "text/plain": [
       "array([[ 0.12631955],\n",
       "       [ 0.04013511],\n",
       "       [-0.02223435],\n",
       "       [ 0.14762577],\n",
       "       [-0.1500078 ],\n",
       "       [-0.03429752],\n",
       "       [ 0.47652364],\n",
       "       [-0.63312305],\n",
       "       [ 0.10362954],\n",
       "       [ 1.0364032 ]])"
      ]
     },
     "execution_count": 58,
     "metadata": {},
     "output_type": "execute_result"
    }
   ],
   "source": [
    "w_end"
   ]
  }
 ],
 "metadata": {
  "kernelspec": {
   "display_name": "Python 3",
   "language": "python",
   "name": "python3"
  },
  "language_info": {
   "codemirror_mode": {
    "name": "ipython",
    "version": 3
   },
   "file_extension": ".py",
   "mimetype": "text/x-python",
   "name": "python",
   "nbconvert_exporter": "python",
   "pygments_lexer": "ipython3",
   "version": "3.5.2"
  }
 },
 "nbformat": 4,
 "nbformat_minor": 2
}
