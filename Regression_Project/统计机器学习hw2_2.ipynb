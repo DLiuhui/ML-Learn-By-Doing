{
 "cells": [
  {
   "cell_type": "code",
   "execution_count": 16,
   "metadata": {},
   "outputs": [],
   "source": [
    "import sys\n",
    "import numpy as np\n",
    "import pandas as pd\n",
    "import csv"
   ]
  },
  {
   "cell_type": "code",
   "execution_count": 17,
   "metadata": {},
   "outputs": [],
   "source": [
    "train_path = \"./data/train.csv\"\n",
    "test_path = \"./data/test.csv\"\n",
    "ans_path = \"./data/ans.csv\""
   ]
  },
  {
   "cell_type": "code",
   "execution_count": 18,
   "metadata": {},
   "outputs": [],
   "source": [
    "train_raw = pd.read_csv(train_path, sep=',', encoding='big5')\n",
    "test_data = pd.read_csv(test_path, sep=',', encoding='big5', names=['id','index','1','2','3','4','5','6','7','8','9'])"
   ]
  },
  {
   "cell_type": "code",
   "execution_count": 19,
   "metadata": {},
   "outputs": [],
   "source": [
    "train_1 = train_raw.iloc[:, 3:3+6]\n",
    "train_2 = train_raw.iloc[:, 9:9+6]\n",
    "train_3 = train_raw.iloc[:, 15:15+6]\n",
    "attr_index = train_raw.iloc[:, 2]"
   ]
  },
  {
   "cell_type": "code",
   "execution_count": 20,
   "metadata": {},
   "outputs": [],
   "source": [
    "train_1 = pd.concat([train_1, attr_index], axis=1)\n",
    "train_2 = pd.concat([train_2, attr_index], axis=1)\n",
    "train_3 = pd.concat([train_3, attr_index], axis=1)"
   ]
  },
  {
   "cell_type": "code",
   "execution_count": 21,
   "metadata": {},
   "outputs": [],
   "source": [
    "y_1 = train_1[train_1[\"測項\"] == \"PM2.5\"]\n",
    "y_1 = y_1['5'].values\n",
    "y_2 = train_2[train_2[\"測項\"] == \"PM2.5\"]\n",
    "y_2 = y_2['11'].values\n",
    "y_3 = train_3[train_3[\"測項\"] == \"PM2.5\"]\n",
    "y_3 = y_3['17'].values\n",
    "Y = np.concatenate((y_1, y_2, y_3), axis=0)\n",
    "Y = Y.astype('float64')\n",
    "Y = Y[:,np.newaxis]\n",
    "del y_1, y_2, y_3"
   ]
  },
  {
   "cell_type": "code",
   "execution_count": 22,
   "metadata": {},
   "outputs": [
    {
     "name": "stderr",
     "output_type": "stream",
     "text": [
      "/home/ddrh/Software/python_venv/general/lib/python3.5/site-packages/pandas/core/frame.py:4042: SettingWithCopyWarning: \n",
      "A value is trying to be set on a copy of a slice from a DataFrame\n",
      "\n",
      "See the caveats in the documentation: http://pandas.pydata.org/pandas-docs/stable/indexing.html#indexing-view-versus-copy\n",
      "  method=method)\n"
     ]
    }
   ],
   "source": [
    "x_1 = train_1.iloc[:,0:5]\n",
    "x_2 = train_2.iloc[:,0:5]\n",
    "x_3 = train_3.iloc[:,0:5]\n",
    "x_1.replace('NR',0,inplace=True)\n",
    "x_2.replace('NR',0,inplace=True)\n",
    "x_3.replace('NR',0,inplace=True)"
   ]
  },
  {
   "cell_type": "code",
   "execution_count": 23,
   "metadata": {},
   "outputs": [],
   "source": [
    "x_1 = x_1.values.reshape((240, -1))\n",
    "x_2 = x_2.values.reshape((240, -1))\n",
    "x_3 = x_3.values.reshape((240, -1))\n",
    "X_raw = np.concatenate((x_1, x_2, x_3), axis=0)\n",
    "X_raw = X_raw.astype('float64')"
   ]
  },
  {
   "cell_type": "code",
   "execution_count": 24,
   "metadata": {},
   "outputs": [],
   "source": [
    "tmp = np.ones(Y.shape)\n",
    "X = np.c_[tmp, X_raw]\n",
    "del tmp"
   ]
  },
  {
   "cell_type": "code",
   "execution_count": 28,
   "metadata": {},
   "outputs": [],
   "source": [
    "test_data.replace('NR',0,inplace=True)"
   ]
  },
  {
   "cell_type": "code",
   "execution_count": 29,
   "metadata": {},
   "outputs": [],
   "source": [
    "x_test = test_data.iloc[:, 6:].values.reshape((240, -1)).astype('float64')"
   ]
  },
  {
   "cell_type": "code",
   "execution_count": 30,
   "metadata": {},
   "outputs": [],
   "source": [
    "tmp = np.ones(x_test.shape[0])\n",
    "x_test = np.c_[tmp, x_test]\n",
    "del tmp"
   ]
  },
  {
   "cell_type": "code",
   "execution_count": 31,
   "metadata": {},
   "outputs": [],
   "source": [
    "def training(x, y, w, iteration=1000, alpha=1e-3, eps=1e-3):\n",
    "    total = len(y)\n",
    "    # gradient descent\n",
    "    rmse = []\n",
    "    for i in range(iteration):\n",
    "        y_pre = np.dot(x,w)\n",
    "        loss = y_pre - y\n",
    "        w_new = w - alpha / total * np.dot(x.T, loss)\n",
    "        rmse.append((np.sqrt(np.dot(loss.T, loss) / total)).item())\n",
    "        if(np.max(np.abs(w_new - w)) < eps):\n",
    "            break\n",
    "        w = w_new\n",
    "    return rmse, w"
   ]
  },
  {
   "cell_type": "code",
   "execution_count": 32,
   "metadata": {},
   "outputs": [],
   "source": [
    "w = np.zeros((X.shape[1], 1))"
   ]
  },
  {
   "cell_type": "code",
   "execution_count": 44,
   "metadata": {},
   "outputs": [],
   "source": [
    "rmse, w_end = training(X, Y, w, iteration=6000, alpha=5e-6, eps=1e-10)"
   ]
  },
  {
   "cell_type": "code",
   "execution_count": 45,
   "metadata": {},
   "outputs": [
    {
     "data": {
      "image/png": "[encoded data removed]",
      "text/plain": [
       "<Figure size 432x288 with 1 Axes>"
      ]
     },
     "metadata": {
      "needs_background": "light"
     },
     "output_type": "display_data"
    }
   ],
   "source": [
    "import matplotlib.pyplot as plt\n",
    "plt.figure(0)\n",
    "plt.plot(range(len(rmse)), rmse)\n",
    "plt.show()"
   ]
  },
  {
   "cell_type": "code",
   "execution_count": 47,
   "metadata": {},
   "outputs": [],
   "source": [
    "y_test_pre = np.dot(x_test, w_end)"
   ]
  },
  {
   "cell_type": "code",
   "execution_count": 48,
   "metadata": {},
   "outputs": [],
   "source": [
    "y_test = pd.read_csv(ans_path, sep=',')"
   ]
  },
  {
   "cell_type": "code",
   "execution_count": 49,
   "metadata": {},
   "outputs": [],
   "source": [
    "y_test = y_test['value'].values.astype('float64')\n",
    "y_test = y_test[:, np.newaxis]"
   ]
  },
  {
   "cell_type": "code",
   "execution_count": 50,
   "metadata": {},
   "outputs": [
    {
     "data": {
      "text/plain": [
       "7.081443603884236"
      ]
     },
     "execution_count": 50,
     "metadata": {},
     "output_type": "execute_result"
    }
   ],
   "source": [
    "rmse_end = np.sqrt(((y_test - y_test_pre)**2).sum() / len(y_test))\n",
    "rmse_end"
   ]
  },
  {
   "cell_type": "code",
   "execution_count": 51,
   "metadata": {},
   "outputs": [
    {
     "data": {
      "text/plain": [
       "(240, 91)"
      ]
     },
     "execution_count": 51,
     "metadata": {},
     "output_type": "execute_result"
    }
   ],
   "source": [
    "x_test.shape"
   ]
  },
  {
   "cell_type": "code",
   "execution_count": null,
   "metadata": {},
   "outputs": [],
   "source": []
  }
 ],
 "metadata": {
  "kernelspec": {
   "display_name": "Python 3",
   "language": "python",
   "name": "python3"
  },
  "language_info": {
   "codemirror_mode": {
    "name": "ipython",
    "version": 3
   },
   "file_extension": ".py",
   "mimetype": "text/x-python",
   "name": "python",
   "nbconvert_exporter": "python",
   "pygments_lexer": "ipython3",
   "version": "3.5.2"
  }
 },
 "nbformat": 4,
 "nbformat_minor": 2
}
