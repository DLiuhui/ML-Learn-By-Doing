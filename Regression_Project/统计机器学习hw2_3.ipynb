{
 "cells": [
  {
   "cell_type": "code",
   "execution_count": 2,
   "metadata": {},
   "outputs": [],
   "source": [
    "import sys\n",
    "import numpy as np\n",
    "import pandas as pd\n",
    "import csv"
   ]
  },
  {
   "cell_type": "code",
   "execution_count": 3,
   "metadata": {},
   "outputs": [],
   "source": [
    "train_path = \"./data/train.csv\"\n",
    "test_path = \"./data/test.csv\"\n",
    "ans_path = \"./data/ans.csv\""
   ]
  },
  {
   "cell_type": "code",
   "execution_count": 4,
   "metadata": {},
   "outputs": [],
   "source": [
    "train_raw = pd.read_csv(train_path, sep=',', encoding='big5')\n",
    "test_data = pd.read_csv(test_path, sep=',', encoding='big5', names=['id','index','1','2','3','4','5','6','7','8','9'])"
   ]
  },
  {
   "cell_type": "code",
   "execution_count": 5,
   "metadata": {},
   "outputs": [],
   "source": [
    "train_1 = train_raw.iloc[:, 3:3+10]\n",
    "train_2 = train_raw.iloc[:, 16:16+10]\n",
    "attr_index = train_raw.iloc[:, 2]"
   ]
  },
  {
   "cell_type": "code",
   "execution_count": 6,
   "metadata": {},
   "outputs": [],
   "source": [
    "train_1 = pd.concat([train_1, attr_index], axis=1)\n",
    "train_2 = pd.concat([train_2, attr_index], axis=1)"
   ]
  },
  {
   "cell_type": "code",
   "execution_count": 7,
   "metadata": {},
   "outputs": [],
   "source": [
    "y_1 = train_1[train_1[\"測項\"] == \"PM2.5\"]\n",
    "y_1 = y_1['9'].values\n",
    "y_2 = train_2[train_2[\"測項\"] == \"PM2.5\"]\n",
    "y_2 = y_2['22'].values\n",
    "Y = np.concatenate((y_1, y_2), axis=0)\n",
    "Y = Y.astype('float64')\n",
    "Y = Y[:,np.newaxis]\n",
    "del y_1, y_2"
   ]
  },
  {
   "cell_type": "code",
   "execution_count": 8,
   "metadata": {},
   "outputs": [
    {
     "name": "stderr",
     "output_type": "stream",
     "text": [
      "/home/ddrh/Software/python_venv/general/lib/python3.5/site-packages/pandas/core/frame.py:4042: SettingWithCopyWarning: \n",
      "A value is trying to be set on a copy of a slice from a DataFrame\n",
      "\n",
      "See the caveats in the documentation: http://pandas.pydata.org/pandas-docs/stable/indexing.html#indexing-view-versus-copy\n",
      "  method=method)\n"
     ]
    }
   ],
   "source": [
    "x_1 = train_1.iloc[:,0:9]\n",
    "x_2 = train_2.iloc[:,0:9]\n",
    "x_1.replace('NR',0,inplace=True)\n",
    "x_2.replace('NR',0,inplace=True)"
   ]
  },
  {
   "cell_type": "code",
   "execution_count": 9,
   "metadata": {},
   "outputs": [],
   "source": [
    "x_1 = x_1.values.reshape((240, -1))\n",
    "x_2 = x_2.values.reshape((240, -1))\n",
    "X_raw = np.concatenate((x_1, x_2), axis=0)\n",
    "X_raw = X_raw.astype('float64')"
   ]
  },
  {
   "cell_type": "code",
   "execution_count": 10,
   "metadata": {},
   "outputs": [],
   "source": [
    "tmp = np.ones(Y.shape)\n",
    "X = np.c_[tmp, X_raw]\n",
    "del tmp"
   ]
  },
  {
   "cell_type": "code",
   "execution_count": 11,
   "metadata": {},
   "outputs": [],
   "source": [
    "test_data.replace('NR',0,inplace=True)"
   ]
  },
  {
   "cell_type": "code",
   "execution_count": 12,
   "metadata": {},
   "outputs": [],
   "source": [
    "x_test = test_data.iloc[:, 2:].values.reshape((240, -1)).astype('float64')"
   ]
  },
  {
   "cell_type": "code",
   "execution_count": 13,
   "metadata": {},
   "outputs": [],
   "source": [
    "tmp = np.ones(x_test.shape[0])\n",
    "x_test = np.c_[tmp, x_test]\n",
    "del tmp"
   ]
  },
  {
   "cell_type": "code",
   "execution_count": 15,
   "metadata": {},
   "outputs": [],
   "source": [
    "y_test = pd.read_csv(ans_path, sep=',')\n",
    "y_test = y_test['value'].values.astype('float64')\n",
    "y_test = y_test[:, np.newaxis]"
   ]
  },
  {
   "cell_type": "code",
   "execution_count": 22,
   "metadata": {},
   "outputs": [],
   "source": [
    "# 引入正则项\n",
    "from sklearn.linear_model import Ridge\n",
    "lambda_his = [0.1, 0.01, 0.001, 0.0001]\n",
    "rmse_his = []\n",
    "for lam in lambda_his:\n",
    "    clf = Ridge(alpha=lam)\n",
    "    clf.fit(X, Y)\n",
    "    y_test_pre = clf.predict(x_test)\n",
    "    rmse_his.append(np.sqrt(((y_test - y_test_pre)**2).sum() / len(y_test)))"
   ]
  },
  {
   "cell_type": "code",
   "execution_count": 24,
   "metadata": {},
   "outputs": [
    {
     "data": {
      "image/png": "[encoded data removed]",
      "text/plain": [
       "<Figure size 432x288 with 1 Axes>"
      ]
     },
     "metadata": {
      "needs_background": "light"
     },
     "output_type": "display_data"
    }
   ],
   "source": [
    "import matplotlib.pyplot as plt\n",
    "plt.figure(1)\n",
    "plt.plot(np.log10(lambda_his), rmse_his)\n",
    "plt.show()"
   ]
  }
 ],
 "metadata": {
  "kernelspec": {
   "display_name": "Python 3",
   "language": "python",
   "name": "python3"
  },
  "language_info": {
   "codemirror_mode": {
    "name": "ipython",
    "version": 3
   },
   "file_extension": ".py",
   "mimetype": "text/x-python",
   "name": "python",
   "nbconvert_exporter": "python",
   "pygments_lexer": "ipython3",
   "version": "3.5.2"
  }
 },
 "nbformat": 4,
 "nbformat_minor": 2
}
