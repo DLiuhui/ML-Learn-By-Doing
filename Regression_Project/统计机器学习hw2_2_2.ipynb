{
 "cells": [
  {
   "cell_type": "code",
   "execution_count": 1,
   "metadata": {},
   "outputs": [],
   "source": [
    "import sys\n",
    "import numpy as np\n",
    "import pandas as pd\n",
    "import csv"
   ]
  },
  {
   "cell_type": "code",
   "execution_count": 2,
   "metadata": {},
   "outputs": [],
   "source": [
    "train_path = \"./data/train.csv\"\n",
    "test_path = \"./data/test.csv\"\n",
    "ans_path = \"./data/ans.csv\""
   ]
  },
  {
   "cell_type": "code",
   "execution_count": 3,
   "metadata": {},
   "outputs": [],
   "source": [
    "train_raw = pd.read_csv(train_path, sep=',', encoding='big5')\n",
    "test_data = pd.read_csv(test_path, sep=',', encoding='big5', names=['id','index','1','2','3','4','5','6','7','8','9'])"
   ]
  },
  {
   "cell_type": "code",
   "execution_count": 4,
   "metadata": {},
   "outputs": [],
   "source": [
    "train_1 = train_raw.iloc[:, 3:3+6]\n",
    "train_2 = train_raw.iloc[:, 9:9+6]\n",
    "train_3 = train_raw.iloc[:, 15:15+6]\n",
    "attr_index = train_raw.iloc[:, 2]"
   ]
  },
  {
   "cell_type": "code",
   "execution_count": 5,
   "metadata": {},
   "outputs": [],
   "source": [
    "train_1 = pd.concat([train_1, attr_index], axis=1)\n",
    "train_2 = pd.concat([train_2, attr_index], axis=1)\n",
    "train_3 = pd.concat([train_3, attr_index], axis=1)"
   ]
  },
  {
   "cell_type": "code",
   "execution_count": 6,
   "metadata": {},
   "outputs": [],
   "source": [
    "y_1 = train_1[train_1[\"測項\"] == \"PM2.5\"]\n",
    "y_2 = train_2[train_2[\"測項\"] == \"PM2.5\"]\n",
    "y_3 = train_3[train_3[\"測項\"] == \"PM2.5\"]\n",
    "x_1 = y_1.iloc[:, 0:5].values.astype('float64')\n",
    "x_2 = y_2.iloc[:, 0:5].values.astype('float64')\n",
    "x_3 = y_3.iloc[:, 0:5].values.astype('float64')\n",
    "X = np.concatenate((x_1, x_2, x_3), axis=0)\n",
    "tmp = np.ones(X.shape[0])\n",
    "X = np.c_[tmp, X]\n",
    "del tmp\n",
    "y_1 = y_1['5'].values\n",
    "y_2 = y_2['11'].values\n",
    "y_3 = y_3['17'].values\n",
    "Y = np.concatenate((y_1, y_2, y_3), axis=0)\n",
    "Y = Y.astype('float64')\n",
    "Y = Y[:,np.newaxis]"
   ]
  },
  {
   "cell_type": "code",
   "execution_count": 8,
   "metadata": {},
   "outputs": [],
   "source": [
    "x_test = test_data[test_data['index']=='PM2.5']\n",
    "x_test = x_test.iloc[:, 6:].values.astype('float64')\n",
    "tmp = np.ones(x_test.shape[0])\n",
    "x_test = np.c_[tmp, x_test]\n",
    "del tmp"
   ]
  },
  {
   "cell_type": "code",
   "execution_count": 11,
   "metadata": {},
   "outputs": [],
   "source": [
    "def training(x, y, w, iteration=1000, alpha=1e-3, eps=1e-3):\n",
    "    total = len(y)\n",
    "    # gradient descent\n",
    "    rmse = []\n",
    "    for i in range(iteration):\n",
    "        y_pre = np.dot(x,w)\n",
    "        loss = y_pre - y\n",
    "        w_new = w - alpha / total * np.dot(x.T, loss)\n",
    "        rmse.append((np.sqrt(np.dot(loss.T, loss) / total)).item())\n",
    "        if(np.max(np.abs(w_new - w)) < eps):\n",
    "            break\n",
    "        w = w_new\n",
    "    return rmse, w"
   ]
  },
  {
   "cell_type": "code",
   "execution_count": 12,
   "metadata": {},
   "outputs": [],
   "source": [
    "w = np.zeros((X.shape[1], 1))"
   ]
  },
  {
   "cell_type": "code",
   "execution_count": 13,
   "metadata": {},
   "outputs": [],
   "source": [
    "rmse, w_end = training(X, Y, w, iteration=6000, alpha=3e-5, eps=1e-10)"
   ]
  },
  {
   "cell_type": "code",
   "execution_count": 15,
   "metadata": {},
   "outputs": [
    {
     "data": {
      "image/png": "[encoded data removed]",
      "text/plain": [
       "<Figure size 432x288 with 1 Axes>"
      ]
     },
     "metadata": {
      "needs_background": "light"
     },
     "output_type": "display_data"
    }
   ],
   "source": [
    "import matplotlib.pyplot as plt\n",
    "plt.figure(0)\n",
    "plt.plot(range(len(rmse)), rmse)\n",
    "plt.show()"
   ]
  },
  {
   "cell_type": "code",
   "execution_count": 16,
   "metadata": {},
   "outputs": [],
   "source": [
    "y_test_pre = np.dot(x_test, w_end)"
   ]
  },
  {
   "cell_type": "code",
   "execution_count": 17,
   "metadata": {},
   "outputs": [],
   "source": [
    "y_test = pd.read_csv(ans_path, sep=',')"
   ]
  },
  {
   "cell_type": "code",
   "execution_count": 18,
   "metadata": {},
   "outputs": [],
   "source": [
    "y_test = y_test['value'].values.astype('float64')\n",
    "y_test = y_test[:, np.newaxis]"
   ]
  },
  {
   "cell_type": "code",
   "execution_count": 19,
   "metadata": {},
   "outputs": [
    {
     "data": {
      "text/plain": [
       "6.7857909943929995"
      ]
     },
     "execution_count": 19,
     "metadata": {},
     "output_type": "execute_result"
    }
   ],
   "source": [
    "rmse_end = np.sqrt(((y_test - y_test_pre)**2).sum() / len(y_test))\n",
    "rmse_end"
   ]
  },
  {
   "cell_type": "code",
   "execution_count": 20,
   "metadata": {},
   "outputs": [
    {
     "data": {
      "text/plain": [
       "(240, 6)"
      ]
     },
     "execution_count": 20,
     "metadata": {},
     "output_type": "execute_result"
    }
   ],
   "source": [
    "x_test.shape"
   ]
  },
  {
   "cell_type": "code",
   "execution_count": null,
   "metadata": {},
   "outputs": [],
   "source": []
  }
 ],
 "metadata": {
  "kernelspec": {
   "display_name": "Python 3",
   "language": "python",
   "name": "python3"
  },
  "language_info": {
   "codemirror_mode": {
    "name": "ipython",
    "version": 3
   },
   "file_extension": ".py",
   "mimetype": "text/x-python",
   "name": "python",
   "nbconvert_exporter": "python",
   "pygments_lexer": "ipython3",
   "version": "3.5.2"
  }
 },
 "nbformat": 4,
 "nbformat_minor": 2
}
